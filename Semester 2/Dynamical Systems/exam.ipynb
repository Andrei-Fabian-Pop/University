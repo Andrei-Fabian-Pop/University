{
 "cells": [
  {
   "cell_type": "code",
   "execution_count": 45,
   "id": "3c3f5e13",
   "metadata": {},
   "outputs": [
    {
     "data": {
      "image/png": "[encoded data removed]",
      "text/plain": [
       "Graphics object consisting of 1 graphics primitive"
      ]
     },
     "execution_count": 45,
     "metadata": {},
     "output_type": "execute_result"
    }
   ],
   "source": [
    "# ex1\n",
    "x = var('x')\n",
    "u = function('u')(x)\n",
    "eqd=diff(u,x,2)+5*diff(u,x,1)-7*u==5*cos(x)-7*sin(x)\n",
    "ds=desolve(eqd,u,ics=[-11,1,0])\n",
    "plot(ds,(x,-11,5))"
   ]
  },
  {
   "cell_type": "code",
   "execution_count": 17,
   "id": "fbdf4f2a",
   "metadata": {},
   "outputs": [],
   "source": [
    "# ex1\n",
    "x = var('x')\n",
    "u = function('u')(x)\n",
    "eqd=diff(u,x,2)+diff(u,x,1)+7*u==5*cos(x)-7*sin(x)\n",
    "ds=desolve(eqd,u,ics=[-11,1,0])\n",
    "# numerical_approx(eqd(pi/2)) # ??"
   ]
  },
  {
   "cell_type": "code",
   "execution_count": 33,
   "id": "a8401a3a",
   "metadata": {},
   "outputs": [
    {
     "data": {
      "text/plain": [
       "[diff(fy(y), y) == x*(y + 17)]"
      ]
     },
     "execution_count": 33,
     "metadata": {},
     "output_type": "execute_result"
    }
   ],
   "source": [
    "# ex2\n",
    "x,y=var('x y')\n",
    "fx = function('fx')(x)\n",
    "fy = function('fy')(y)\n",
    "eqd1=diff(fx,x)==-17*y+3*(y^2)-2*x*y\n",
    "eqd2=diff(fy,y)==17*x+x*y\n",
    "solve(eqd1,fx)\n",
    "solve(eqd2,fy)"
   ]
  },
  {
   "cell_type": "code",
   "execution_count": 40,
   "id": "66643865",
   "metadata": {},
   "outputs": [
    {
     "data": {
      "text/plain": [
       "[0]"
      ]
     },
     "execution_count": 40,
     "metadata": {},
     "output_type": "execute_result"
    }
   ],
   "source": [
    "# ex3\n",
    "x,y=var('x y')\n",
    "fx = function('fx')(x)\n",
    "fy = function('fy')(y)\n",
    "\n",
    "eqd1=diff(fx,x)==-y\n",
    "eqd2=diff(fy,y)==5*x\n",
    "\n",
    "A = Matrix([[eqd1*eqd1, eqd1*eqd2], [eqd2*eqd1, eqd2*eqd2]])\n",
    "A.determinant()\n",
    "A.eigenvalues()"
   ]
  },
  {
   "cell_type": "code",
   "execution_count": null,
   "id": "319f1ee1",
   "metadata": {},
   "outputs": [],
   "source": []
  }
 ],
 "metadata": {
  "kernelspec": {
   "display_name": "SageMath 9.5",
   "language": "sage",
   "name": "sagemath"
  },
  "language_info": {
   "codemirror_mode": {
    "name": "ipython",
    "version": 3
   },
   "file_extension": ".py",
   "mimetype": "text/x-python",
   "name": "python",
   "nbconvert_exporter": "python",
   "pygments_lexer": "ipython3",
   "version": "3.10.4"
  }
 },
 "nbformat": 4,
 "nbformat_minor": 5
}
