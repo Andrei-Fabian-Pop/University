{
 "cells": [
  {
   "cell_type": "code",
   "execution_count": 41,
   "id": "08fe639a",
   "metadata": {},
   "outputs": [
    {
     "data": {
      "text/plain": [
       "2*cos(t) + sin(t)"
      ]
     },
     "execution_count": 41,
     "metadata": {},
     "output_type": "execute_result"
    }
   ],
   "source": [
    "# ex6, lab2\n",
    "t=var('t')\n",
    "x=function('x')(t)\n",
    "eqd=diff(x,t,2)+diff(x,t,1)==0\n",
    "# desolve(eqd,x)\n",
    "desolve(eqd,x,ics=[pi/2,1,-2])\n",
    "y=sqrt(5)*cos(t-atan(1/2))\n",
    "y.trig_simplify()"
   ]
  },
  {
   "cell_type": "code",
   "execution_count": 14,
   "id": "2ec498f8",
   "metadata": {},
   "outputs": [
    {
     "data": {
      "text/plain": [
       "-((t^2 - 2*t + 2)*e^t - 3*(t - 1)*e^t - _C + 7*e^t)*e^(-t)"
      ]
     },
     "execution_count": 14,
     "metadata": {},
     "output_type": "execute_result"
    }
   ],
   "source": [
    "# ex15, lab2\n",
    "t=var('t')\n",
    "x=function('x')(t)\n",
    "eqd1=diff(x,t)+x==-t^2+3*t-7\n",
    "desolve(eqd1,x)"
   ]
  },
  {
   "cell_type": "code",
   "execution_count": 17,
   "id": "20da0c53",
   "metadata": {},
   "outputs": [
    {
     "data": {
      "text/plain": [
       "-1/9*((3*t + 1)*e^(-3*t) - 9*_C)*e^(3*t)"
      ]
     },
     "execution_count": 17,
     "metadata": {},
     "output_type": "execute_result"
    }
   ],
   "source": [
    "# ex4, lab3\n",
    "t=var('t')\n",
    "x=function('x')(t)\n",
    "eqd2=diff(x,t)==3*x+t\n",
    "desolve(eqd2,x)"
   ]
  },
  {
   "cell_type": "code",
   "execution_count": 31,
   "id": "a41ec246",
   "metadata": {},
   "outputs": [
    {
     "data": {
      "image/png": "[encoded data removed]",
      "text/plain": [
       "Graphics object consisting of 1 graphics primitive"
      ]
     },
     "execution_count": 31,
     "metadata": {},
     "output_type": "execute_result"
    }
   ],
   "source": [
    "# ex12, lab3\n",
    "t=var('t')\n",
    "x=function('x')(t)\n",
    "y=function('y')(t)\n",
    "eq1=diff(x,t)==-2*x\n",
    "eq2=diff(y,t)==3*y\n",
    "syst=[eq1,eq2]\n",
    "sol=desolve_system(syst, [x,y], ics=[0,1,1])\n",
    "f(t)=sol[0].rhs()\n",
    "g(t)=sol[1].rhs()\n",
    "parametric_plot((f(t),g(t)), (t,0,1/100))"
   ]
  },
  {
   "cell_type": "code",
   "execution_count": 35,
   "id": "2ee2ae33",
   "metadata": {},
   "outputs": [
    {
     "data": {
      "text/plain": [
       "[ 2  0  0  0]\n",
       "[ 0  2  0  0]\n",
       "[ 0  0 -1  0]\n",
       "[ 0  0  0  0]"
      ]
     },
     "execution_count": 35,
     "metadata": {},
     "output_type": "execute_result"
    }
   ],
   "source": [
    "# ex2, lab4\n",
    "P=identity_matrix(4)\n",
    "J=diagonal_matrix([2, 2, -1, 0])\n",
    "A=P*J*(P^(-1))\n",
    "A"
   ]
  },
  {
   "cell_type": "code",
   "execution_count": 40,
   "id": "b65dd704",
   "metadata": {},
   "outputs": [
    {
     "data": {
      "text/plain": [
       "(y, -4*sin(x))"
      ]
     },
     "execution_count": 40,
     "metadata": {},
     "output_type": "execute_result"
    }
   ],
   "source": [
    "# ex3, lab5\n",
    "x,y = var('x y')\n",
    "f = (y, -4*sin(x))\n",
    "f"
   ]
  },
  {
   "cell_type": "code",
   "execution_count": null,
   "id": "249b851a",
   "metadata": {},
   "outputs": [],
   "source": []
  }
 ],
 "metadata": {
  "kernelspec": {
   "display_name": "SageMath 9.5",
   "language": "sage",
   "name": "sagemath"
  },
  "language_info": {
   "codemirror_mode": {
    "name": "ipython",
    "version": 3
   },
   "file_extension": ".py",
   "mimetype": "text/x-python",
   "name": "python",
   "nbconvert_exporter": "python",
   "pygments_lexer": "ipython3",
   "version": "3.10.4"
  }
 },
 "nbformat": 4,
 "nbformat_minor": 5
}
