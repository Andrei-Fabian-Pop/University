{
 "cells": [
  {
   "attachments": {},
   "cell_type": "markdown",
   "source": [
    "## Lab. 12\n",
    "\n",
    "### Solve the following problem using Genetic Algorithms:\n",
    "\n",
    "\n",
    "Problem: Weighted N-Queen Problem\n",
    "\n",
    "\n",
    "You are given an N×N chessboard, and each cell of the board has an associated weight. Your task is to find a valid placement of N queens such that the total weight of the queens is maximized, and no two queens threaten each other.\n",
    "\n"
   ],
   "metadata": {}
  },
  {
   "attachments": {},
   "cell_type": "markdown",
   "source": [
    "\n",
    "\n",
    "In the traditional N-Queen Problem, the goal is to place N queens on an N×N chessboard in such a way that no two queens threaten each other. In this variation, we introduce weights to the queens and aim to find a placement that maximizes the total weight of the queens while satisfying the constraint of non-threatening positions.\n",
    "\n",
    "\n",
    "Constraints:\n",
    "\n",
    "1. There should be exactly one queen in each row and each column.\n",
    "2. No two queens should be placed in the same diagonal, i.e., they should not threaten each other.\n",
    "3. The placement should maximize the total weight of the queens.\n",
    "\n",
    "\n",
    "Representation:\n",
    "\n",
    "Use a permutation-based representation. Each permutation represents the column position of the queen for each row. \n",
    "\n",
    "For example, if N=4, a valid permutation [2, 4, 1, 3] indicates that the queen in the first row is placed in column 2, the queen in the second row is placed in column 4, and so on.\n",
    "\n",
    "\n",
    "Genetic Algorithm Steps:\n",
    "\n",
    "1. *Initialization*: Generate an initial population of permutations randomly.\n",
    "\n",
    "2. *Fitness Evaluation*: Evaluate the fitness of each permutation by calculating the total weight of the queens while considering the non-threatening positions.\n",
    "\n",
    "3. *Selection*: Select a subset of permutations from the population based on their fitness, using selection techniques like tournament selection or roulette wheel selection.\n",
    "\n",
    "4. *Crossover*: Perform crossover (recombination) on the selected permutations to create new offspring permutations.\n",
    "\n",
    "5. *Mutation*: Introduce random changes (mutations) in the offspring permutations to maintain diversity in the population.\n",
    "\n",
    "6. *Fitness Evaluation for the new individuals*: Evaluate the fitness of the new population.\n",
    "\n",
    "7. *Form the new population*: Select the surviving individuals based on scores, with chances direct proportional with their performance.\n",
    "\n",
    "8. Repeat steps 3-7 for a certain number of generations or until a termination condition is met (e.g., a maximum number of iterations or a satisfactory solution is found).\n",
    "\n",
    "\n",
    "1. *Termination*: Return the best-performing individual (permutation) found as the solution to the problem.\n",
    "\n",
    "Note: The fitness function used in this problem should calculate the total weight of the queens based on the positions specified by the permutation. Additionally, the fitness function should penalize solutions that violate the non-threatening constraint by assigning a lower fitness score to such permutations."
   ],
   "metadata": {}
  },
  {
   "cell_type": "code",
   "execution_count": 139,
   "outputs": [
    {
     "data": {
      "text/plain": "[[9, 4, 2, 10, 2, 9, 6, 5],\n [3, 8, 4, 7, 8, 6, 4, 2],\n [9, 10, 3, 2, 7, 5, 2, 1],\n [7, 4, 4, 6, 3, 6, 10, 5],\n [9, 2, 4, 6, 7, 4, 4, 1],\n [3, 2, 10, 6, 10, 7, 4, 9],\n [5, 3, 2, 9, 1, 1, 8, 10],\n [5, 3, 3, 10, 1, 7, 9, 10]]"
     },
     "execution_count": 139,
     "metadata": {},
     "output_type": "execute_result"
    }
   ],
   "source": [
    "import random\n",
    "\n",
    "\n",
    "N = 8\n",
    "POPULATION_SIZE = 100\n",
    "MUTATION_RATE = 0.1\n",
    "\n",
    "weights = [[random.randint(1, 10) for _ in range(N)] for _ in range(N)]\n",
    "\n",
    "weights"
   ],
   "metadata": {
    "collapsed": false,
    "ExecuteTime": {
     "end_time": "2023-05-26T06:15:51.372653807Z",
     "start_time": "2023-05-26T06:15:51.320762224Z"
    }
   }
  },
  {
   "cell_type": "code",
   "execution_count": 140,
   "outputs": [],
   "source": [
    "\n",
    "def generate_initial_population():\n",
    "    population = []\n",
    "    for _ in range(POPULATION_SIZE):\n",
    "        permutation = random.sample(range(N), N)\n",
    "        population.append(permutation)\n",
    "    return population\n"
   ],
   "metadata": {
    "collapsed": false,
    "ExecuteTime": {
     "end_time": "2023-05-26T06:15:51.373055175Z",
     "start_time": "2023-05-26T06:15:51.370454481Z"
    }
   }
  },
  {
   "cell_type": "code",
   "execution_count": 141,
   "outputs": [],
   "source": [
    "\n",
    "def calculate_fitness(permutation):\n",
    "    total_weight = 0\n",
    "    for row, col in enumerate(permutation):\n",
    "        total_weight += weights[row][col]\n",
    "        for i in range(row + 1, N):\n",
    "            if abs(row - i) == abs(col - permutation[i]):\n",
    "                total_weight -= weights[row][col]\n",
    "    return total_weight\n"
   ],
   "metadata": {
    "collapsed": false,
    "ExecuteTime": {
     "end_time": "2023-05-26T06:15:51.373313825Z",
     "start_time": "2023-05-26T06:15:51.370817520Z"
    }
   }
  },
  {
   "cell_type": "code",
   "execution_count": 142,
   "outputs": [],
   "source": [
    "\n",
    "def selection(population):\n",
    "    selected = []\n",
    "    for _ in range(POPULATION_SIZE):\n",
    "        tournament = random.sample(population, 2)\n",
    "        fitness_values = [calculate_fitness(permutation) for permutation in tournament]\n",
    "        selected.append(tournament[fitness_values.index(max(fitness_values))])\n",
    "    return selected\n"
   ],
   "metadata": {
    "collapsed": false,
    "ExecuteTime": {
     "end_time": "2023-05-26T06:15:51.373652155Z",
     "start_time": "2023-05-26T06:15:51.371051562Z"
    }
   }
  },
  {
   "cell_type": "code",
   "execution_count": 143,
   "outputs": [],
   "source": [
    "\n",
    "def crossover(parent1, parent2):\n",
    "    crossover_point = random.randint(1, N - 1)\n",
    "    child = parent1[:crossover_point] + [x for x in parent2 if x not in parent1[:crossover_point]]\n",
    "\n",
    "    return child\n"
   ],
   "metadata": {
    "collapsed": false,
    "ExecuteTime": {
     "end_time": "2023-05-26T06:15:51.373866309Z",
     "start_time": "2023-05-26T06:15:51.371418286Z"
    }
   }
  },
  {
   "cell_type": "code",
   "execution_count": 144,
   "outputs": [],
   "source": [
    "\n",
    "def mutation(individual):\n",
    "    if random.random() < MUTATION_RATE:\n",
    "        pos1, pos2 = random.sample(range(N), 2)\n",
    "        individual[pos1], individual[pos2] = individual[pos2], individual[pos1]\n",
    "\n",
    "    return individual\n"
   ],
   "metadata": {
    "collapsed": false,
    "ExecuteTime": {
     "end_time": "2023-05-26T06:15:51.374144717Z",
     "start_time": "2023-05-26T06:15:51.371880931Z"
    }
   }
  },
  {
   "cell_type": "code",
   "execution_count": 145,
   "outputs": [],
   "source": [
    "\n",
    "def genetic_algorithm():\n",
    "    population = generate_initial_population()\n",
    "\n",
    "    for _ in range(POPULATION_SIZE):\n",
    "        selected_population = selection(population)\n",
    "\n",
    "        offspring_population = []\n",
    "        while len(offspring_population) < POPULATION_SIZE:\n",
    "            parent1, parent2 = random.sample(selected_population, 2)\n",
    "            child = crossover(parent1, parent2)\n",
    "            child = mutation(child)\n",
    "            offspring_population.append(child)\n",
    "\n",
    "        fitness_values = [calculate_fitness(permutation) for permutation in offspring_population]\n",
    "        population = [permutation for _, permutation in sorted(zip(fitness_values, offspring_population), reverse=True)]\n",
    "\n",
    "    return population[0]\n"
   ],
   "metadata": {
    "collapsed": false,
    "ExecuteTime": {
     "end_time": "2023-05-26T06:15:51.374332078Z",
     "start_time": "2023-05-26T06:15:51.372884624Z"
    }
   }
  },
  {
   "cell_type": "code",
   "execution_count": 146,
   "outputs": [],
   "source": [
    "\n",
    "def print_chessboard(positions):\n",
    "    for row in range(N):\n",
    "        line = \"\"\n",
    "        for col in range(N):\n",
    "            if positions[row] == col:\n",
    "                line += \"Q \"\n",
    "            else:\n",
    "                line += \"- \"\n",
    "        print(line)\n",
    "    print()\n"
   ],
   "metadata": {
    "collapsed": false,
    "ExecuteTime": {
     "end_time": "2023-05-26T06:15:51.374474135Z",
     "start_time": "2023-05-26T06:15:51.373489275Z"
    }
   }
  },
  {
   "cell_type": "code",
   "execution_count": 147,
   "outputs": [
    {
     "name": "stdout",
     "output_type": "stream",
     "text": [
      "Permutation: [5, 1, 4, 6, 0, 2, 7, 3]\n",
      "Best solution:\n",
      "- - - - - Q - - \n",
      "- Q - - - - - - \n",
      "- - - - Q - - - \n",
      "- - - - - - Q - \n",
      "Q - - - - - - - \n",
      "- - Q - - - - - \n",
      "- - - - - - - Q \n",
      "- - - Q - - - - \n",
      "\n",
      "Fitness: 58\n"
     ]
    }
   ],
   "source": [
    "\n",
    "solution = genetic_algorithm()\n",
    "print(\"Permutation:\", solution)\n",
    "print(\"Best solution:\")\n",
    "print_chessboard(solution)\n",
    "print(\"Fitness:\", calculate_fitness(solution))\n"
   ],
   "metadata": {
    "collapsed": false,
    "ExecuteTime": {
     "end_time": "2023-05-26T06:15:51.590667358Z",
     "start_time": "2023-05-26T06:15:51.374011774Z"
    }
   }
  }
 ],
 "metadata": {
  "kernelspec": {
   "name": "python3",
   "language": "python",
   "display_name": "Python 3 (ipykernel)"
  },
  "language_info": {
   "codemirror_mode": {
    "name": "python",
    "version": 3
   },
   "file_extension": ".py",
   "mimetype": "text/x-python",
   "name": "python",
   "nbconvert_exporter": "python",
   "pygments_lexer": "ipython3",
   "version": "3.8"
  },
  "orig_nbformat": 4,
  "kernel_info": {
   "name": "python"
  },
  "nteract": {
   "version": "nteract-front-end@1.0.0"
  }
 },
 "nbformat": 4,
 "nbformat_minor": 2
}
