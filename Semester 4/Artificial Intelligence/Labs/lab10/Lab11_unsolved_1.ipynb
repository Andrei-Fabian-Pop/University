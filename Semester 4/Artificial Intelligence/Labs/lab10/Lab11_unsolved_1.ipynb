{
 "cells": [
  {
   "cell_type": "markdown",
   "metadata": {},
   "source": [
    "# Lab 11: Evolutionary computation\n",
    "\n",
    "### Consider the following example:\n",
    "\n",
    "Determine the minimum of the function $f(x)= x_1^2+...+x_n^2$ with $x_i \\in [-5.12, 5.12]$, $i \\in \\overline{(1, n)}$\n",
    "\n",
    "We have an example of steady state genetic algorithm with:  representation an array of real numbers; 100 individuals; crossover $$child = \\alpha \\cdot (parent1 - parent2) + parent2 ;$$ mutation - reinitialise on a random position the individual's value."
   ]
  },
  {
   "cell_type": "code",
   "execution_count": 103,
   "metadata": {
    "ExecuteTime": {
     "end_time": "2023-05-19T06:36:13.508723680Z",
     "start_time": "2023-05-19T06:36:13.340920354Z"
    }
   },
   "outputs": [
    {
     "name": "stdout",
     "output_type": "stream",
     "text": [
      "Result: The detected minimum point after 10000 iterations is f(-1.29 0.02) = 0.09\n"
     ]
    }
   ],
   "source": [
    "\n",
    "\n",
    "from random import randint, random\n",
    "from operator import add\n",
    "from math import cos, pi\n",
    "\n",
    "\n",
    "def individual(length, vmin, vmax):\n",
    "    '''\n",
    "    Create a member of the population - an individual\n",
    "\n",
    "    length: the number of genes (components)\n",
    "    vmin: the minimum possible value \n",
    "    vmax: the maximum possible value \n",
    "    '''\n",
    "    x = random() * (vmax - vmin) + vmin\n",
    "    y = random() * (vmax - vmin) + vmin\n",
    "    return x, y\n",
    "\n",
    "def population(count, length, vmin, vmax):\n",
    "    \"\"\"\n",
    "    Create a number of individuals (i.e. a population).\n",
    "\n",
    "    count: the number of individuals in the population\n",
    "    length: the number of values per individual\n",
    "    vmin: the minimum possible value \n",
    "    vmax: the maximum possible value \n",
    "    \"\"\"\n",
    "    return [ individual(length, vmin, vmax) for x in range(count) ]\n",
    "\n",
    "def fitness(individual):\n",
    "    \"\"\"\n",
    "    Determine the fitness of an individual. Lower is better.(min problem)\n",
    "    For this problem we have the Rastrigin function\n",
    "    \n",
    "    individual: the individual to evaluate\n",
    "    \"\"\"\n",
    "    x = individual[0]\n",
    "    y = individual[1]\n",
    "    term1 = 100 * np.sqrt(abs(y - 0.01 * x ** 2))\n",
    "    term2 = 0.01 * abs(x + 10)\n",
    "    return term1 + term2\n",
    "\n",
    "def mutate(individual, pM, vmin, vmax):\n",
    "    '''\n",
    "    Performs a mutation on an individual with the probability of pM.\n",
    "    If the event will take place, at a random position a new value will be\n",
    "    generated in the interval [vmin, vmax]\n",
    "\n",
    "    individual:the individual to be mutated\n",
    "    pM: the probability the mutation to occure\n",
    "    vmin: the minimum possible value \n",
    "    vmax: the maximum possible value\n",
    "    '''\n",
    "    if pM > random():\n",
    "            p = randint(0, len(individual)-1)\n",
    "            individual[p] = random()*(vmax-vmin)+vmin\n",
    "    return individual\n",
    "\n",
    "def crossover(parent1, parent2):\n",
    "    '''\n",
    "    crossover between 2 parents\n",
    "    '''\n",
    "    child=[]\n",
    "    alpha=random()\n",
    "    for x in range(len(parent1)):\n",
    "        child.append(alpha*(parent1[x]-parent2[x])+parent2[x])\n",
    "    return child\n",
    "\n",
    "def iteration(pop, pM, vmin, vmax):\n",
    "    '''\n",
    "    an iteration\n",
    "\n",
    "    pop: the current population\n",
    "    pM: the probability the mutation to occure\n",
    "    vmin: the minimum possible value \n",
    "    vmax: the maximum possible value\n",
    "    '''\n",
    "    i1=randint(0,len(pop)-1)\n",
    "    i2=randint(0,len(pop)-1)\n",
    "    if (i1!=i2):\n",
    "        c=crossover(pop[i1],pop[i2])\n",
    "        c=mutate(c, pM, vmin, vmax)\n",
    "        f1=fitness(pop[i1])\n",
    "        f2=fitness(pop[i2])\n",
    "        '''\n",
    "        the repeated evaluation of the parents can be avoided\n",
    "        if  next to the values stored in the individuals we \n",
    "        keep also their fitnesses \n",
    "        '''\n",
    "        fc=fitness(c)\n",
    "        if(f1>f2) and (f1>fc):\n",
    "            pop[i1]=c\n",
    "        if(f2>f1) and (f2>fc):\n",
    "            pop[i2]=c\n",
    "    return pop\n",
    "\n",
    "def main(noIteratii=10000):\n",
    "    #PARAMETERS:\n",
    "\n",
    "    #population size\n",
    "    dimPopulation = 100\n",
    "    #individual size\n",
    "    dimIndividual = 2\n",
    "    #the boundries of the search interval\n",
    "    vmin = -5.12\n",
    "    vmax = 5.12\n",
    "    #the mutation probability\n",
    "    pM=0.01\n",
    "\n",
    "    P = population(dimPopulation, dimIndividual, vmin, vmax)\n",
    "    for i in range(noIteratii):\n",
    "        P = iteration(P, pM, vmin, vmax)\n",
    "\n",
    "    #print the best individual\n",
    "    graded = [ (fitness(x), x) for x in P]\n",
    "    graded =  sorted(graded)\n",
    "    result=graded[0]\n",
    "    fitnessOptim=result[0]\n",
    "    individualOptim=result[1]\n",
    "    print('Result: The detected minimum point after %d iterations is f(%3.2f %3.2f) = %3.2f'% \\\n",
    "          (noIteratii,individualOptim[0],individualOptim[1], fitnessOptim) )\n",
    "\n",
    "main()"
   ]
  },
  {
   "cell_type": "markdown",
   "metadata": {},
   "source": [
    "Exercise 1:  Construct a similar algorithm to the one provided as an example for the Bukin function N.6 (see previous lab for this function).\n"
   ]
  },
  {
   "cell_type": "code",
   "execution_count": 104,
   "metadata": {
    "ExecuteTime": {
     "end_time": "2023-05-19T06:36:13.511528459Z",
     "start_time": "2023-05-19T06:36:13.421546080Z"
    }
   },
   "outputs": [
    {
     "name": "stdout",
     "output_type": "stream",
     "text": [
      "Result: The detected minimum point after 10000 iterations is f(-5.63 -5.15) = 233.91\n"
     ]
    }
   ],
   "source": [
    "# your code here\n",
    "# 100 * np.sqrt(np.abs(y - 0.01*(x * x))) + 0.01 * np.abs(x + 10)\n",
    "\n",
    "from random import randint, random\n",
    "\n",
    "\n",
    "def individual(length, vmin, vmax):\n",
    "    '''\n",
    "    Create a member of the population - an individual\n",
    "\n",
    "    length: the number of genes (components)\n",
    "    vmin: the minimum possible value \n",
    "    vmax: the maximum possible value \n",
    "    '''\n",
    "    return [ (random()*(vmax-vmin)+vmin) for x in range(length) ]\n",
    "\n",
    "def population(count, length, vmin, vmax):\n",
    "    \"\"\"\n",
    "    Create a number of individuals (i.e. a population).\n",
    "\n",
    "    count: the number of individuals in the population\n",
    "    length: the number of values per individual\n",
    "    vmin: the minimum possible value \n",
    "    vmax: the maximum possible value \n",
    "    \"\"\"\n",
    "    return [ individual(length, vmin, vmax) for x in range(count) ]\n",
    "\n",
    "def fitness(individual):\n",
    "    \"\"\"\n",
    "    Determine the fitness of an individual. Lower is better.(min problem)\n",
    "    For this problem we have the function f(x,y) = 100 * abs(y - 0.01 * x**2)**0.5 + 0.01 * abs(x + 10)\n",
    "    \n",
    "    individual: the individual to evaluate\n",
    "    \"\"\"\n",
    "    x, y = individual[0], individual[1]\n",
    "    return 100 * abs(y - 0.01 * x**2)**0.5 + 0.01 * abs(x + 10)\n",
    "\n",
    "def mutate(individual, pM, vmin, vmax):\n",
    "    '''\n",
    "    Performs a mutation on an individual with the probability of pM.\n",
    "    If the event will take place, at a random position a new value will be\n",
    "    generated in the interval [vmin, vmax]\n",
    "\n",
    "    individual:the individual to be mutated\n",
    "    pM: the probability the mutation to occure\n",
    "    vmin: the minimum possible value \n",
    "    vmax: the maximum possible value\n",
    "    '''\n",
    "    if pM > random():\n",
    "            p = randint(0, len(individual)-1)\n",
    "            individual[p] = random()*(vmax-vmin)+vmin\n",
    "    return individual\n",
    "\n",
    "def crossover(parent1, parent2):\n",
    "    '''\n",
    "    crossover between 2 parents\n",
    "    '''\n",
    "    child=[]\n",
    "    alpha=random()\n",
    "    for x in range(len(parent1)):\n",
    "        child.append(alpha*(parent1[x]-parent2[x])+parent2[x])\n",
    "    return child\n",
    "\n",
    "def iteration(pop, pM, vmin, vmax):\n",
    "    '''\n",
    "    an iteration\n",
    "\n",
    "    pop: the current population\n",
    "    pM: the probability the mutation to occure\n",
    "    vmin: the minimum possible value \n",
    "    vmax: the maximum possible value\n",
    "    '''\n",
    "    i1=randint(0,len(pop)-1)\n",
    "    i2=randint(0,len(pop)-1)\n",
    "    if (i1!=i2):\n",
    "        c=crossover(pop[i1],pop[i2])\n",
    "        c=mutate(c, pM, vmin, vmax)\n",
    "        f1=fitness(pop[i1])\n",
    "        f2=fitness(pop[i2])\n",
    "        '''\n",
    "        the repeated evaluation of the parents can be avoided\n",
    "        if  next to the values stored in the individuals we \n",
    "        keep also their fitnesses \n",
    "        '''\n",
    "        fc=fitness(c)\n",
    "        if(f1>f2) and (f1>fc):\n",
    "            pop[i1]=c\n",
    "        if(f2>f1) and (f2>fc):\n",
    "            pop[i2]=c\n",
    "    return pop\n",
    "\n",
    "def main(noIteratii=10000):\n",
    "    #PARAMETERS:\n",
    "\n",
    "    #population size\n",
    "    dimPopulation = 100\n",
    "    #individual size\n",
    "    dimIndividual = 2\n",
    "    #the boundries of the search interval\n",
    "    vmin = -15\n",
    "    vmax = -5\n",
    "\n",
    "    #the mutation probability\n",
    "    pM=0.01\n",
    "\n",
    "    P = population(dimPopulation, dimIndividual, vmin, vmax)\n",
    "\n",
    "    for i in range(noIteratii):\n",
    "        P = iteration(P, pM, vmin, vmax)\n",
    "\n",
    "    #print the best individual\n",
    "    graded = [ (fitness(x), x) for x in P]\n",
    "    graded =  sorted(graded)\n",
    "    result=graded[0]\n",
    "    fitnessOptim=result[0]\n",
    "    individualOptim=result[1]\n",
    "    print('Result: The detected minimum point after %d iterations is f(%3.2f %3.2f) = %3.2f'% \\\n",
    "          (noIteratii, individualOptim[0], individualOptim[1], fitnessOptim) )\n",
    "\n",
    "main()"
   ]
  },
  {
   "cell_type": "markdown",
   "metadata": {},
   "source": [
    "Consider the knapsack problem:\n",
    "\n",
    "Consider a Knapsack with a total volum equal with $V_{max}$.\n",
    "\n",
    "There are $n$ objects, with values $(p_i)_{n}$ and volumes $(v_i)_n$.\n",
    "\n",
    "Solve this problem using a generationist Genetic Algorithm, with a binary representation.\n",
    "\n",
    "Exercise 2: Initialization\n",
    "Objective: Implement the initialization step of a genetic algorithm."
   ]
  },
  {
   "cell_type": "code",
   "execution_count": 105,
   "metadata": {
    "ExecuteTime": {
     "end_time": "2023-05-19T06:36:13.511782098Z",
     "start_time": "2023-05-19T06:36:13.477736364Z"
    }
   },
   "outputs": [
    {
     "name": "stdout",
     "output_type": "stream",
     "text": [
      "[[0, 1, 1, 0, 0, 0, 0, 1], [0, 1, 0, 1, 1, 1, 0, 0], [1, 1, 0, 0, 0, 0, 1, 1], [1, 1, 0, 1, 0, 0, 0, 1], [1, 1, 0, 0, 1, 1, 0, 0], [0, 0, 1, 0, 1, 1, 1, 1], [1, 0, 1, 1, 1, 0, 0, 0], [1, 0, 0, 1, 1, 0, 0, 0], [1, 1, 0, 1, 1, 0, 1, 0], [0, 1, 0, 0, 1, 1, 0, 0]]\n"
     ]
    }
   ],
   "source": [
    "import random\n",
    "\n",
    "def initialize_population(population_size, chromosome_length):\n",
    "    # generate random a population with population_size number of individuals\n",
    "    # each individual with the size chromosome_length\n",
    "    # IN:  population_size, chromosome_length\n",
    "    # OUT: population\n",
    "\n",
    "    # your code here\n",
    "    population = []\n",
    "    for i in range(population_size):\n",
    "        individual = [random.randint(0, 1) for _ in range(chromosome_length)]\n",
    "        population.append(individual)\n",
    "    return population\n",
    "\n",
    "# Test the initialization step\n",
    "population_size = 10\n",
    "chromosome_length = 8\n",
    "population = initialize_population(population_size, chromosome_length)\n",
    "print(population)\n"
   ]
  },
  {
   "cell_type": "markdown",
   "metadata": {},
   "source": [
    "Exercise 3: Fitness Evaluation\n",
    "\n",
    "Objective: Implement the fitness evaluation step of a genetic algorithm."
   ]
  },
  {
   "cell_type": "code",
   "execution_count": 106,
   "metadata": {
    "ExecuteTime": {
     "end_time": "2023-05-19T06:36:13.511944995Z",
     "start_time": "2023-05-19T06:36:13.480115649Z"
    }
   },
   "outputs": [
    {
     "name": "stdout",
     "output_type": "stream",
     "text": [
      "[69, 0, 63, 68, 58, 0, 0, 53, 48, 0]\n"
     ]
    }
   ],
   "source": [
    "values = [15, 23, 8, 10, 12, 7, 20, 11, 18, 14]\n",
    "weights = [5, 9, 4, 3, 6, 2, 10, 7, 8, 5]\n",
    "max_weight = 30\n",
    "\n",
    "def knapsack_fitness(solution):\n",
    "    total_value = 0\n",
    "    total_weight = 0\n",
    "\n",
    "    for i in range(len(solution)):\n",
    "        if solution[i] == 1:\n",
    "            total_value += values[i]\n",
    "            total_weight += weights[i]\n",
    "    if total_weight > max_weight:\n",
    "        total_value = 0\n",
    "\n",
    "    return total_value\n",
    "\n",
    "def evaluate_fitness(population):\n",
    "    # evaluate the fitness of each individual in the population\n",
    "    # IN:  population\n",
    "    # OUT: fitness_scores\n",
    "\n",
    "    # your code here\n",
    "    fitness_scores = []\n",
    "    for i in range(len(population)):\n",
    "        fitness_scores.append(knapsack_fitness(population[i]))\n",
    "    return fitness_scores\n",
    "\n",
    "# Test the fitness evaluation step\n",
    "population_size = 10\n",
    "chromosome_length = 10\n",
    "population = initialize_population(population_size, chromosome_length)\n",
    "fitness_scores = evaluate_fitness(population)\n",
    "print(fitness_scores)\n"
   ]
  },
  {
   "cell_type": "markdown",
   "metadata": {},
   "source": [
    "Exercise 4: Selection\n",
    "\n",
    "Objective: Implement the selection step of a genetic algorithm."
   ]
  },
  {
   "cell_type": "code",
   "execution_count": 107,
   "metadata": {
    "ExecuteTime": {
     "end_time": "2023-05-19T06:36:13.512094155Z",
     "start_time": "2023-05-19T06:36:13.487994636Z"
    }
   },
   "outputs": [
    {
     "name": "stdout",
     "output_type": "stream",
     "text": [
      "[[1, 0, 1, 1, 0, 0, 1, 0, 0, 0], [1, 0, 0, 0, 1, 0, 1, 1, 0, 0]]\n"
     ]
    }
   ],
   "source": [
    "import numpy as np\n",
    "\n",
    "def select_parents(population, fitness_scores):\n",
    "    # select two parents from the population based on the fitness - \n",
    "    # the better the fitness, the higher the chance to be selected\n",
    "    # IN:  population, fitness_scores\n",
    "    # OUT: selected_parents\n",
    "\n",
    "    # your code here\n",
    "    total_fitness = sum(fitness_scores)\n",
    "\n",
    "    # calculate the probability of each individual to be selected as a parent\n",
    "    probabilities = [fitness/total_fitness for fitness in fitness_scores]\n",
    "\n",
    "    # select two parents using Roulette Wheel Selection\n",
    "    selected_parents = []\n",
    "    for i in range(2):\n",
    "        spin = np.random.uniform(0, 1)\n",
    "        cumulative_probability = 0\n",
    "        for j in range(len(population)):\n",
    "            cumulative_probability += probabilities[j]\n",
    "            if spin <= cumulative_probability:\n",
    "                selected_parents.append(population[j])\n",
    "                break\n",
    "\n",
    "    return selected_parents\n",
    "\n",
    "# Test the selection step\n",
    "parents = select_parents(population, fitness_scores)\n",
    "print(parents)\n"
   ]
  },
  {
   "cell_type": "markdown",
   "metadata": {},
   "source": [
    "Exercise 5: Crossover\n",
    "\n",
    "Objective: Implement the crossover step of a genetic algorithm."
   ]
  },
  {
   "cell_type": "code",
   "execution_count": 108,
   "metadata": {
    "ExecuteTime": {
     "end_time": "2023-05-19T06:36:13.512240646Z",
     "start_time": "2023-05-19T06:36:13.491339781Z"
    }
   },
   "outputs": [
    {
     "name": "stdout",
     "output_type": "stream",
     "text": [
      "(array([1, 0, 1, 1, 1, 0, 1, 1, 0, 0]), array([1, 0, 0, 0, 0, 0, 1, 0, 0, 0]))\n"
     ]
    }
   ],
   "source": [
    "def crossover(parents):\n",
    "    # create two new offspring by combining the parents\n",
    "    # IN:  parents\n",
    "    # OUT: offspring\n",
    "\n",
    "    parent1, parent2 = parents\n",
    "    offspring1 = np.zeros_like(parent1)\n",
    "    offspring2 = np.zeros_like(parent1)\n",
    "    point = np.random.randint(1, len(parent1) - 1)\n",
    "    offspring1[:point] = parent1[:point]\n",
    "    offspring1[point:] = parent2[point:]\n",
    "    offspring2[:point] = parent2[:point]\n",
    "    offspring2[point:] = parent1[point:]\n",
    "\n",
    "    return offspring1, offspring2\n",
    "\n",
    "# Test the crossover step\n",
    "offspring = crossover(parents)\n",
    "print(offspring)\n"
   ]
  },
  {
   "cell_type": "markdown",
   "metadata": {},
   "source": [
    "Exercise 6: Mutation\n",
    "\n",
    "Objective: Implement the mutation step of a genetic algorithm."
   ]
  },
  {
   "cell_type": "code",
   "execution_count": 109,
   "metadata": {
    "ExecuteTime": {
     "end_time": "2023-05-19T06:36:13.643373052Z",
     "start_time": "2023-05-19T06:36:13.500802571Z"
    }
   },
   "outputs": [
    {
     "name": "stdout",
     "output_type": "stream",
     "text": [
      "[array([1, 0, 1, 1, 1, 0, 1, 1, 0, 0]), array([1, 0, 0, 0, 0, 0, 0, 0, 0, 0])]\n"
     ]
    }
   ],
   "source": [
    "def mutate(chromosome, mutation_rate):\n",
    "    # mutate the chromosome by randomly flipping bits\n",
    "    # IN: chromosome, mutation_rate\n",
    "    # OUT: mutated_chromosome\n",
    "\n",
    "    mutated_chromosome = chromosome.copy()\n",
    "\n",
    "    for i in range(len(mutated_chromosome)):\n",
    "        if random.random() < mutation_rate:\n",
    "            mutated_chromosome[i] = 1 - mutated_chromosome[i]\n",
    "\n",
    "    return mutated_chromosome\n",
    "\n",
    "# Test the mutation step\n",
    "mutation_rate = 0.1\n",
    "mutated_offspring = [mutate(child, mutation_rate) for child in offspring]\n",
    "print(mutated_offspring)\n"
   ]
  },
  {
   "cell_type": "markdown",
   "metadata": {},
   "source": [
    "Exercise 7: Complete Genetic Algorithm\n",
    "\n",
    "Objective: Combine all the steps of a genetic algorithm to solve a specific problem."
   ]
  },
  {
   "cell_type": "code",
   "execution_count": 110,
   "metadata": {
    "ExecuteTime": {
     "end_time": "2023-05-19T06:36:13.733554264Z",
     "start_time": "2023-05-19T06:36:13.545976976Z"
    }
   },
   "outputs": [
    {
     "name": "stdout",
     "output_type": "stream",
     "text": [
      "[[1 1 0 0 0 1 0 1]\n",
      " [0 0 1 1 0 1 0 1]\n",
      " [0 0 1 0 0 1 1 0]\n",
      " [0 1 1 0 0 1 0 0]\n",
      " [1 0 0 0 0 1 1 0]\n",
      " [0 1 1 0 0 1 1 1]\n",
      " [0 1 0 0 0 1 1 0]\n",
      " [1 1 1 0 0 1 0 0]\n",
      " [1 0 0 0 0 0 1 0]\n",
      " [0 1 0 1 0 0 1 0]]\n"
     ]
    }
   ],
   "source": [
    "values = [15, 23, 8, 10, 12, 7, 20, 11, 18, 14]\n",
    "weights = [5, 9, 4, 3, 6, 2, 10, 7, 8, 5]\n",
    "max_weight = 30\n",
    "\n",
    "def initialize_population(population_size, chromosome_length):\n",
    "    # generate random a population with population_size number of individuals\n",
    "    # each individual with the size chromosome_length\n",
    "    # IN:  population_size, chromosome_length\n",
    "    # OUT: population\n",
    "\n",
    "    # your code here\n",
    "    population = []\n",
    "    for i in range(population_size):\n",
    "        individual = [random.randint(0, 1) for j in range(chromosome_length)]\n",
    "        population.append(individual)\n",
    "    return population\n",
    "\n",
    "def knapsack_fitness(solution):\n",
    "    total_value = 0\n",
    "    total_weight = 0\n",
    "\n",
    "    for i in range(len(solution)):\n",
    "        if solution[i] == 1:\n",
    "            total_value += values[i]\n",
    "            total_weight += weights[i]\n",
    "    if total_weight > max_weight:\n",
    "        total_value = 0\n",
    "\n",
    "    return total_value\n",
    "\n",
    "def evaluate_fitness(population):\n",
    "    # evaluate the fitness of each individual in the population\n",
    "    # IN:  population\n",
    "    # OUT: fitness_scores\n",
    "\n",
    "    # your code here\n",
    "    fitness_scores = []\n",
    "    for i in range(len(population)):\n",
    "        fitness_scores.append(knapsack_fitness(population[i]))\n",
    "    return fitness_scores\n",
    "\n",
    "def select_parents(population, fitness_scores):\n",
    "    # select two parents from the population based on the fitness - \n",
    "    # the better the fitness, the higher the chance to be selected\n",
    "    # IN:  population, fitness_scores\n",
    "    # OUT: selected_parents\n",
    "\n",
    "    # your code here\n",
    "    total_fitness = sum(fitness_scores)\n",
    "\n",
    "    # calculate the probability of each individual to be selected as a parent\n",
    "    probabilities = [fitness/total_fitness for fitness in fitness_scores]\n",
    "\n",
    "    # select two parents using Roulette Wheel Selection\n",
    "    selected_parents = []\n",
    "    for i in range(2):\n",
    "        spin = np.random.uniform(0, 1)\n",
    "        cumulative_probability = 0\n",
    "        for j in range(len(population)):\n",
    "            cumulative_probability += probabilities[j]\n",
    "            if spin <= cumulative_probability:\n",
    "                selected_parents.append(population[j])\n",
    "                break\n",
    "\n",
    "    return selected_parents\n",
    "\n",
    "def crossover(parents):\n",
    "    # create two new offspring by combining the parents\n",
    "    # IN:  parents\n",
    "    # OUT: offspring\n",
    "\n",
    "    parent1, parent2 = parents\n",
    "    offspring1 = np.zeros_like(parent1)\n",
    "    offspring2 = np.zeros_like(parent1)\n",
    "    point = np.random.randint(1, len(parent1) - 1)\n",
    "    offspring1[:point] = parent1[:point]\n",
    "    offspring1[point:] = parent2[point:]\n",
    "    offspring2[:point] = parent2[:point]\n",
    "    offspring2[point:] = parent1[point:]\n",
    "\n",
    "    return offspring1, offspring2\n",
    "\n",
    "def mutate(chromosome, mutation_rate):\n",
    "    # mutate the chromosome by randomly flipping bits\n",
    "    # IN:  chromosome, mutation_rate\n",
    "    # OUT: mutated_chromosome\n",
    "\n",
    "    # your code here\n",
    "    for i in range(len(chromosome)):\n",
    "        if np.random.rand() < mutation_rate:\n",
    "            chromosome[i] = 1 - chromosome[i]\n",
    "\n",
    "    return chromosome\n",
    "\n",
    "def genetic_algorithm(population_size, chromosome_length, generations, mutation_rate):\n",
    "    # initialize the population\n",
    "    population = initialize_population(population_size, chromosome_length)\n",
    "\n",
    "    for _ in range(generations):\n",
    "        # Fitness evaluation\n",
    "        fitness_scores = evaluate_fitness(population)\n",
    "\n",
    "        new_population = []\n",
    "\n",
    "        # Mutation\n",
    "        while len(new_population) < len(population):\n",
    "            # Selection\n",
    "            parents = select_parents(population, fitness_scores)\n",
    "\n",
    "            # Crossover\n",
    "            offspring = crossover(parents)\n",
    "\n",
    "            offspring_list = [mutate(child, mutation_rate) for child in offspring]\n",
    "\n",
    "            new_population.append(offspring_list[0])\n",
    "            new_population.append(offspring_list[1])\n",
    "\n",
    "        # Replace the population with the new generation\n",
    "        population = np.array(new_population)\n",
    "\n",
    "    return population\n",
    "\n",
    "# Test the complete genetic algorithm\n",
    "population_size = 10\n",
    "chromosome_length = 8\n",
    "generations = 1000\n",
    "mutation_rate = 0.1\n",
    "\n",
    "final_population = genetic_algorithm(population_size, chromosome_length, generations, mutation_rate)\n",
    "print(final_population)\n"
   ]
  },
  {
   "cell_type": "markdown",
   "metadata": {},
   "source": [
    "Exercise 8: Extract the result from the final population\n",
    "\n",
    "Objective: Get the best individual from the final population.\n"
   ]
  },
  {
   "cell_type": "code",
   "execution_count": 111,
   "outputs": [
    {
     "name": "stdout",
     "output_type": "stream",
     "text": [
      "[1 1 1 0 0 0 0 1]\n",
      "74\n"
     ]
    }
   ],
   "source": [
    "# determine the best individual from the final population and print it out\n",
    "\n",
    "# your code here\n",
    "\n",
    "population_size = 10\n",
    "chromosome_length = 8\n",
    "generations = 100\n",
    "mutation_rate = 0.1\n",
    "\n",
    "final_population = genetic_algorithm(population_size, chromosome_length, generations, mutation_rate)\n",
    "\n",
    "final_fitness = evaluate_fitness(final_population)\n",
    "individuals = genetic_algorithm(population_size, chromosome_length, generations, mutation_rate)\n",
    "\n",
    "best_individual = individuals[0]\n",
    "best_fitness = final_fitness[0]\n",
    "\n",
    "for i in range(len(final_fitness)):\n",
    "    if final_fitness[i] > best_fitness:\n",
    "        best_fitness = final_fitness[i]\n",
    "        best_individual = individuals[i]\n",
    "\n",
    "print(best_individual)\n",
    "print(best_fitness)"
   ],
   "metadata": {
    "collapsed": false,
    "ExecuteTime": {
     "end_time": "2023-05-19T06:36:13.826196727Z",
     "start_time": "2023-05-19T06:36:13.738235720Z"
    }
   }
  },
  {
   "cell_type": "code",
   "execution_count": 111,
   "metadata": {
    "ExecuteTime": {
     "end_time": "2023-05-19T06:36:13.829972546Z",
     "start_time": "2023-05-19T06:36:13.826458590Z"
    }
   },
   "outputs": [],
   "source": []
  }
 ],
 "metadata": {
  "kernel_info": {
   "name": "python"
  },
  "kernelspec": {
   "display_name": "Python 3 (ipykernel)",
   "language": "python",
   "name": "python3"
  },
  "language_info": {
   "codemirror_mode": {
    "name": "ipython",
    "version": 3
   },
   "file_extension": ".py",
   "mimetype": "text/x-python",
   "name": "python",
   "nbconvert_exporter": "python",
   "pygments_lexer": "ipython3",
   "version": "3.8.16"
  },
  "nteract": {
   "version": "nteract-front-end@1.0.0"
  }
 },
 "nbformat": 4,
 "nbformat_minor": 2
}
